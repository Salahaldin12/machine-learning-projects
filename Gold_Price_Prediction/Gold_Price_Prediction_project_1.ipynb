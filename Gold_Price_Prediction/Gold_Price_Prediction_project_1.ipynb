{
 "cells": [
  {
   "cell_type": "markdown",
   "id": "4892eed6",
   "metadata": {},
   "source": [
    "# Import Libraries"
   ]
  },
  {
   "cell_type": "code",
   "execution_count": 65,
   "id": "d48253b2",
   "metadata": {
    "ExecuteTime": {
     "end_time": "2022-08-23T12:02:23.683756Z",
     "start_time": "2022-08-23T12:02:23.668763Z"
    }
   },
   "outputs": [],
   "source": [
    "import pandas as pd \n",
    "import numpy as np \n",
    "import matplotlib.pyplot as plt \n",
    "import seaborn as sns \n",
    "from sklearn.ensemble import RandomForestRegressor\n",
    "from sklearn.linear_model import LinearRegression\n",
    "from sklearn.tree import DecisionTreeRegressor\n",
    "from sklearn.model_selection import train_test_split\n",
    "from sklearn import metrics\n",
    "from sklearn.metrics import r2_score\n",
    "from xgboost import XGBRegressor\n",
    "import warnings\n",
    "warnings.filterwarnings('ignore')"
   ]
  },
  {
   "cell_type": "markdown",
   "id": "7af37257",
   "metadata": {},
   "source": [
    "**First, read the data file**\n",
    "\n",
    "**seconds display data information**\n",
    "\n",
    "**Third, make sure that there are no empty values**"
   ]
  },
  {
   "cell_type": "code",
   "execution_count": 14,
   "id": "ef705e8d",
   "metadata": {
    "ExecuteTime": {
     "end_time": "2022-08-23T09:55:53.569905Z",
     "start_time": "2022-08-23T09:55:53.537851Z"
    }
   },
   "outputs": [
    {
     "data": {
      "text/html": [
       "<div>\n",
       "<style scoped>\n",
       "    .dataframe tbody tr th:only-of-type {\n",
       "        vertical-align: middle;\n",
       "    }\n",
       "\n",
       "    .dataframe tbody tr th {\n",
       "        vertical-align: top;\n",
       "    }\n",
       "\n",
       "    .dataframe thead th {\n",
       "        text-align: right;\n",
       "    }\n",
       "</style>\n",
       "<table border=\"1\" class=\"dataframe\">\n",
       "  <thead>\n",
       "    <tr style=\"text-align: right;\">\n",
       "      <th></th>\n",
       "      <th>Date</th>\n",
       "      <th>SPX</th>\n",
       "      <th>GLD</th>\n",
       "      <th>USO</th>\n",
       "      <th>SLV</th>\n",
       "      <th>EUR/USD</th>\n",
       "    </tr>\n",
       "  </thead>\n",
       "  <tbody>\n",
       "    <tr>\n",
       "      <th>0</th>\n",
       "      <td>1/2/2008</td>\n",
       "      <td>1447.160034</td>\n",
       "      <td>84.860001</td>\n",
       "      <td>78.470001</td>\n",
       "      <td>15.1800</td>\n",
       "      <td>1.471692</td>\n",
       "    </tr>\n",
       "    <tr>\n",
       "      <th>1</th>\n",
       "      <td>1/3/2008</td>\n",
       "      <td>1447.160034</td>\n",
       "      <td>85.570000</td>\n",
       "      <td>78.370003</td>\n",
       "      <td>15.2850</td>\n",
       "      <td>1.474491</td>\n",
       "    </tr>\n",
       "    <tr>\n",
       "      <th>2</th>\n",
       "      <td>1/4/2008</td>\n",
       "      <td>1411.630005</td>\n",
       "      <td>85.129997</td>\n",
       "      <td>77.309998</td>\n",
       "      <td>15.1670</td>\n",
       "      <td>1.475492</td>\n",
       "    </tr>\n",
       "    <tr>\n",
       "      <th>3</th>\n",
       "      <td>1/7/2008</td>\n",
       "      <td>1416.180054</td>\n",
       "      <td>84.769997</td>\n",
       "      <td>75.500000</td>\n",
       "      <td>15.0530</td>\n",
       "      <td>1.468299</td>\n",
       "    </tr>\n",
       "    <tr>\n",
       "      <th>4</th>\n",
       "      <td>1/8/2008</td>\n",
       "      <td>1390.189941</td>\n",
       "      <td>86.779999</td>\n",
       "      <td>76.059998</td>\n",
       "      <td>15.5900</td>\n",
       "      <td>1.557099</td>\n",
       "    </tr>\n",
       "    <tr>\n",
       "      <th>...</th>\n",
       "      <td>...</td>\n",
       "      <td>...</td>\n",
       "      <td>...</td>\n",
       "      <td>...</td>\n",
       "      <td>...</td>\n",
       "      <td>...</td>\n",
       "    </tr>\n",
       "    <tr>\n",
       "      <th>2285</th>\n",
       "      <td>5/8/2018</td>\n",
       "      <td>2671.919922</td>\n",
       "      <td>124.589996</td>\n",
       "      <td>14.060000</td>\n",
       "      <td>15.5100</td>\n",
       "      <td>1.186789</td>\n",
       "    </tr>\n",
       "    <tr>\n",
       "      <th>2286</th>\n",
       "      <td>5/9/2018</td>\n",
       "      <td>2697.790039</td>\n",
       "      <td>124.330002</td>\n",
       "      <td>14.370000</td>\n",
       "      <td>15.5300</td>\n",
       "      <td>1.184722</td>\n",
       "    </tr>\n",
       "    <tr>\n",
       "      <th>2287</th>\n",
       "      <td>5/10/2018</td>\n",
       "      <td>2723.070068</td>\n",
       "      <td>125.180000</td>\n",
       "      <td>14.410000</td>\n",
       "      <td>15.7400</td>\n",
       "      <td>1.191753</td>\n",
       "    </tr>\n",
       "    <tr>\n",
       "      <th>2288</th>\n",
       "      <td>5/14/2018</td>\n",
       "      <td>2730.129883</td>\n",
       "      <td>124.489998</td>\n",
       "      <td>14.380000</td>\n",
       "      <td>15.5600</td>\n",
       "      <td>1.193118</td>\n",
       "    </tr>\n",
       "    <tr>\n",
       "      <th>2289</th>\n",
       "      <td>5/16/2018</td>\n",
       "      <td>2725.780029</td>\n",
       "      <td>122.543800</td>\n",
       "      <td>14.405800</td>\n",
       "      <td>15.4542</td>\n",
       "      <td>1.182033</td>\n",
       "    </tr>\n",
       "  </tbody>\n",
       "</table>\n",
       "<p>2290 rows × 6 columns</p>\n",
       "</div>"
      ],
      "text/plain": [
       "           Date          SPX         GLD        USO      SLV   EUR/USD\n",
       "0      1/2/2008  1447.160034   84.860001  78.470001  15.1800  1.471692\n",
       "1      1/3/2008  1447.160034   85.570000  78.370003  15.2850  1.474491\n",
       "2      1/4/2008  1411.630005   85.129997  77.309998  15.1670  1.475492\n",
       "3      1/7/2008  1416.180054   84.769997  75.500000  15.0530  1.468299\n",
       "4      1/8/2008  1390.189941   86.779999  76.059998  15.5900  1.557099\n",
       "...         ...          ...         ...        ...      ...       ...\n",
       "2285   5/8/2018  2671.919922  124.589996  14.060000  15.5100  1.186789\n",
       "2286   5/9/2018  2697.790039  124.330002  14.370000  15.5300  1.184722\n",
       "2287  5/10/2018  2723.070068  125.180000  14.410000  15.7400  1.191753\n",
       "2288  5/14/2018  2730.129883  124.489998  14.380000  15.5600  1.193118\n",
       "2289  5/16/2018  2725.780029  122.543800  14.405800  15.4542  1.182033\n",
       "\n",
       "[2290 rows x 6 columns]"
      ]
     },
     "execution_count": 14,
     "metadata": {},
     "output_type": "execute_result"
    }
   ],
   "source": [
    "data_gold = pd.read_csv('gld_price_data.csv')\n",
    "data_gold"
   ]
  },
  {
   "cell_type": "code",
   "execution_count": 15,
   "id": "0f948322",
   "metadata": {
    "ExecuteTime": {
     "end_time": "2022-08-23T09:55:54.366956Z",
     "start_time": "2022-08-23T09:55:54.350941Z"
    }
   },
   "outputs": [
    {
     "data": {
      "text/plain": [
       "(2290, 6)"
      ]
     },
     "execution_count": 15,
     "metadata": {},
     "output_type": "execute_result"
    }
   ],
   "source": [
    "data_gold.shape"
   ]
  },
  {
   "cell_type": "code",
   "execution_count": 16,
   "id": "faefa5ec",
   "metadata": {
    "ExecuteTime": {
     "end_time": "2022-08-23T09:55:55.128392Z",
     "start_time": "2022-08-23T09:55:55.112394Z"
    }
   },
   "outputs": [
    {
     "name": "stdout",
     "output_type": "stream",
     "text": [
      "<class 'pandas.core.frame.DataFrame'>\n",
      "RangeIndex: 2290 entries, 0 to 2289\n",
      "Data columns (total 6 columns):\n",
      " #   Column   Non-Null Count  Dtype  \n",
      "---  ------   --------------  -----  \n",
      " 0   Date     2290 non-null   object \n",
      " 1   SPX      2290 non-null   float64\n",
      " 2   GLD      2290 non-null   float64\n",
      " 3   USO      2290 non-null   float64\n",
      " 4   SLV      2290 non-null   float64\n",
      " 5   EUR/USD  2290 non-null   float64\n",
      "dtypes: float64(5), object(1)\n",
      "memory usage: 107.5+ KB\n"
     ]
    }
   ],
   "source": [
    "data_gold.info()"
   ]
  },
  {
   "cell_type": "code",
   "execution_count": 17,
   "id": "19a6c10f",
   "metadata": {
    "ExecuteTime": {
     "end_time": "2022-08-23T09:55:55.824267Z",
     "start_time": "2022-08-23T09:55:55.792213Z"
    },
    "scrolled": true
   },
   "outputs": [
    {
     "data": {
      "text/html": [
       "<div>\n",
       "<style scoped>\n",
       "    .dataframe tbody tr th:only-of-type {\n",
       "        vertical-align: middle;\n",
       "    }\n",
       "\n",
       "    .dataframe tbody tr th {\n",
       "        vertical-align: top;\n",
       "    }\n",
       "\n",
       "    .dataframe thead th {\n",
       "        text-align: right;\n",
       "    }\n",
       "</style>\n",
       "<table border=\"1\" class=\"dataframe\">\n",
       "  <thead>\n",
       "    <tr style=\"text-align: right;\">\n",
       "      <th></th>\n",
       "      <th>SPX</th>\n",
       "      <th>GLD</th>\n",
       "      <th>USO</th>\n",
       "      <th>SLV</th>\n",
       "      <th>EUR/USD</th>\n",
       "    </tr>\n",
       "  </thead>\n",
       "  <tbody>\n",
       "    <tr>\n",
       "      <th>count</th>\n",
       "      <td>2290.000000</td>\n",
       "      <td>2290.000000</td>\n",
       "      <td>2290.000000</td>\n",
       "      <td>2290.000000</td>\n",
       "      <td>2290.000000</td>\n",
       "    </tr>\n",
       "    <tr>\n",
       "      <th>mean</th>\n",
       "      <td>1654.315776</td>\n",
       "      <td>122.732875</td>\n",
       "      <td>31.842221</td>\n",
       "      <td>20.084997</td>\n",
       "      <td>1.283653</td>\n",
       "    </tr>\n",
       "    <tr>\n",
       "      <th>std</th>\n",
       "      <td>519.111540</td>\n",
       "      <td>23.283346</td>\n",
       "      <td>19.523517</td>\n",
       "      <td>7.092566</td>\n",
       "      <td>0.131547</td>\n",
       "    </tr>\n",
       "    <tr>\n",
       "      <th>min</th>\n",
       "      <td>676.530029</td>\n",
       "      <td>70.000000</td>\n",
       "      <td>7.960000</td>\n",
       "      <td>8.850000</td>\n",
       "      <td>1.039047</td>\n",
       "    </tr>\n",
       "    <tr>\n",
       "      <th>25%</th>\n",
       "      <td>1239.874969</td>\n",
       "      <td>109.725000</td>\n",
       "      <td>14.380000</td>\n",
       "      <td>15.570000</td>\n",
       "      <td>1.171313</td>\n",
       "    </tr>\n",
       "    <tr>\n",
       "      <th>50%</th>\n",
       "      <td>1551.434998</td>\n",
       "      <td>120.580002</td>\n",
       "      <td>33.869999</td>\n",
       "      <td>17.268500</td>\n",
       "      <td>1.303297</td>\n",
       "    </tr>\n",
       "    <tr>\n",
       "      <th>75%</th>\n",
       "      <td>2073.010070</td>\n",
       "      <td>132.840004</td>\n",
       "      <td>37.827501</td>\n",
       "      <td>22.882500</td>\n",
       "      <td>1.369971</td>\n",
       "    </tr>\n",
       "    <tr>\n",
       "      <th>max</th>\n",
       "      <td>2872.870117</td>\n",
       "      <td>184.589996</td>\n",
       "      <td>117.480003</td>\n",
       "      <td>47.259998</td>\n",
       "      <td>1.598798</td>\n",
       "    </tr>\n",
       "  </tbody>\n",
       "</table>\n",
       "</div>"
      ],
      "text/plain": [
       "               SPX          GLD          USO          SLV      EUR/USD\n",
       "count  2290.000000  2290.000000  2290.000000  2290.000000  2290.000000\n",
       "mean   1654.315776   122.732875    31.842221    20.084997     1.283653\n",
       "std     519.111540    23.283346    19.523517     7.092566     0.131547\n",
       "min     676.530029    70.000000     7.960000     8.850000     1.039047\n",
       "25%    1239.874969   109.725000    14.380000    15.570000     1.171313\n",
       "50%    1551.434998   120.580002    33.869999    17.268500     1.303297\n",
       "75%    2073.010070   132.840004    37.827501    22.882500     1.369971\n",
       "max    2872.870117   184.589996   117.480003    47.259998     1.598798"
      ]
     },
     "execution_count": 17,
     "metadata": {},
     "output_type": "execute_result"
    }
   ],
   "source": [
    "data_gold.describe()"
   ]
  },
  {
   "cell_type": "markdown",
   "id": "4f0feacf",
   "metadata": {},
   "source": [
    "**We convert the Date column to date time so that we know the average prices for each year**"
   ]
  },
  {
   "cell_type": "code",
   "execution_count": 18,
   "id": "04a89094",
   "metadata": {
    "ExecuteTime": {
     "end_time": "2022-08-23T09:55:56.902945Z",
     "start_time": "2022-08-23T09:55:56.402927Z"
    }
   },
   "outputs": [],
   "source": [
    "data_gold.Date = data_gold.Date.apply(pd.to_datetime)"
   ]
  },
  {
   "cell_type": "code",
   "execution_count": 19,
   "id": "aa520483",
   "metadata": {
    "ExecuteTime": {
     "end_time": "2022-08-23T09:55:57.022508Z",
     "start_time": "2022-08-23T09:55:56.998550Z"
    }
   },
   "outputs": [
    {
     "data": {
      "text/html": [
       "<div>\n",
       "<style scoped>\n",
       "    .dataframe tbody tr th:only-of-type {\n",
       "        vertical-align: middle;\n",
       "    }\n",
       "\n",
       "    .dataframe tbody tr th {\n",
       "        vertical-align: top;\n",
       "    }\n",
       "\n",
       "    .dataframe thead th {\n",
       "        text-align: right;\n",
       "    }\n",
       "</style>\n",
       "<table border=\"1\" class=\"dataframe\">\n",
       "  <thead>\n",
       "    <tr style=\"text-align: right;\">\n",
       "      <th></th>\n",
       "      <th>Date</th>\n",
       "      <th>SPX</th>\n",
       "      <th>GLD</th>\n",
       "      <th>USO</th>\n",
       "      <th>SLV</th>\n",
       "      <th>EUR/USD</th>\n",
       "      <th>Year</th>\n",
       "    </tr>\n",
       "  </thead>\n",
       "  <tbody>\n",
       "    <tr>\n",
       "      <th>0</th>\n",
       "      <td>2008-01-02</td>\n",
       "      <td>1447.160034</td>\n",
       "      <td>84.860001</td>\n",
       "      <td>78.470001</td>\n",
       "      <td>15.180</td>\n",
       "      <td>1.471692</td>\n",
       "      <td>2008</td>\n",
       "    </tr>\n",
       "    <tr>\n",
       "      <th>1</th>\n",
       "      <td>2008-01-03</td>\n",
       "      <td>1447.160034</td>\n",
       "      <td>85.570000</td>\n",
       "      <td>78.370003</td>\n",
       "      <td>15.285</td>\n",
       "      <td>1.474491</td>\n",
       "      <td>2008</td>\n",
       "    </tr>\n",
       "    <tr>\n",
       "      <th>2</th>\n",
       "      <td>2008-01-04</td>\n",
       "      <td>1411.630005</td>\n",
       "      <td>85.129997</td>\n",
       "      <td>77.309998</td>\n",
       "      <td>15.167</td>\n",
       "      <td>1.475492</td>\n",
       "      <td>2008</td>\n",
       "    </tr>\n",
       "    <tr>\n",
       "      <th>3</th>\n",
       "      <td>2008-01-07</td>\n",
       "      <td>1416.180054</td>\n",
       "      <td>84.769997</td>\n",
       "      <td>75.500000</td>\n",
       "      <td>15.053</td>\n",
       "      <td>1.468299</td>\n",
       "      <td>2008</td>\n",
       "    </tr>\n",
       "    <tr>\n",
       "      <th>4</th>\n",
       "      <td>2008-01-08</td>\n",
       "      <td>1390.189941</td>\n",
       "      <td>86.779999</td>\n",
       "      <td>76.059998</td>\n",
       "      <td>15.590</td>\n",
       "      <td>1.557099</td>\n",
       "      <td>2008</td>\n",
       "    </tr>\n",
       "  </tbody>\n",
       "</table>\n",
       "</div>"
      ],
      "text/plain": [
       "        Date          SPX        GLD        USO     SLV   EUR/USD  Year\n",
       "0 2008-01-02  1447.160034  84.860001  78.470001  15.180  1.471692  2008\n",
       "1 2008-01-03  1447.160034  85.570000  78.370003  15.285  1.474491  2008\n",
       "2 2008-01-04  1411.630005  85.129997  77.309998  15.167  1.475492  2008\n",
       "3 2008-01-07  1416.180054  84.769997  75.500000  15.053  1.468299  2008\n",
       "4 2008-01-08  1390.189941  86.779999  76.059998  15.590  1.557099  2008"
      ]
     },
     "execution_count": 19,
     "metadata": {},
     "output_type": "execute_result"
    }
   ],
   "source": [
    "data_gold['Year'] = pd.DatetimeIndex(data_gold['Date']).year\n",
    "data_gold.head()"
   ]
  },
  {
   "cell_type": "code",
   "execution_count": 21,
   "id": "dbab3f5c",
   "metadata": {
    "ExecuteTime": {
     "end_time": "2022-08-23T09:56:56.745528Z",
     "start_time": "2022-08-23T09:56:56.721518Z"
    },
    "scrolled": true
   },
   "outputs": [
    {
     "data": {
      "text/html": [
       "<div>\n",
       "<style scoped>\n",
       "    .dataframe tbody tr th:only-of-type {\n",
       "        vertical-align: middle;\n",
       "    }\n",
       "\n",
       "    .dataframe tbody tr th {\n",
       "        vertical-align: top;\n",
       "    }\n",
       "\n",
       "    .dataframe thead th {\n",
       "        text-align: right;\n",
       "    }\n",
       "</style>\n",
       "<table border=\"1\" class=\"dataframe\">\n",
       "  <thead>\n",
       "    <tr style=\"text-align: right;\">\n",
       "      <th></th>\n",
       "      <th>SPX</th>\n",
       "      <th>GLD</th>\n",
       "      <th>USO</th>\n",
       "      <th>SLV</th>\n",
       "      <th>EUR/USD</th>\n",
       "    </tr>\n",
       "    <tr>\n",
       "      <th>Year</th>\n",
       "      <th></th>\n",
       "      <th></th>\n",
       "      <th></th>\n",
       "      <th></th>\n",
       "      <th></th>\n",
       "    </tr>\n",
       "  </thead>\n",
       "  <tbody>\n",
       "    <tr>\n",
       "      <th>2008</th>\n",
       "      <td>1208.337274</td>\n",
       "      <td>86.111148</td>\n",
       "      <td>77.528756</td>\n",
       "      <td>14.760708</td>\n",
       "      <td>1.464481</td>\n",
       "    </tr>\n",
       "    <tr>\n",
       "      <th>2009</th>\n",
       "      <td>945.604864</td>\n",
       "      <td>95.834464</td>\n",
       "      <td>34.145446</td>\n",
       "      <td>14.478527</td>\n",
       "      <td>1.393900</td>\n",
       "    </tr>\n",
       "    <tr>\n",
       "      <th>2010</th>\n",
       "      <td>1142.600627</td>\n",
       "      <td>119.966397</td>\n",
       "      <td>36.651847</td>\n",
       "      <td>19.922883</td>\n",
       "      <td>1.330050</td>\n",
       "    </tr>\n",
       "    <tr>\n",
       "      <th>2011</th>\n",
       "      <td>1268.544188</td>\n",
       "      <td>152.591486</td>\n",
       "      <td>37.781486</td>\n",
       "      <td>34.118063</td>\n",
       "      <td>1.389480</td>\n",
       "    </tr>\n",
       "    <tr>\n",
       "      <th>2012</th>\n",
       "      <td>1378.354519</td>\n",
       "      <td>162.151507</td>\n",
       "      <td>35.541598</td>\n",
       "      <td>30.349772</td>\n",
       "      <td>1.287449</td>\n",
       "    </tr>\n",
       "    <tr>\n",
       "      <th>2013</th>\n",
       "      <td>1642.193891</td>\n",
       "      <td>136.853213</td>\n",
       "      <td>35.014751</td>\n",
       "      <td>23.179909</td>\n",
       "      <td>1.329559</td>\n",
       "    </tr>\n",
       "    <tr>\n",
       "      <th>2014</th>\n",
       "      <td>1930.589375</td>\n",
       "      <td>121.721294</td>\n",
       "      <td>33.887277</td>\n",
       "      <td>18.276295</td>\n",
       "      <td>1.327894</td>\n",
       "    </tr>\n",
       "    <tr>\n",
       "      <th>2015</th>\n",
       "      <td>2061.795563</td>\n",
       "      <td>111.165561</td>\n",
       "      <td>16.527623</td>\n",
       "      <td>14.999596</td>\n",
       "      <td>1.109867</td>\n",
       "    </tr>\n",
       "    <tr>\n",
       "      <th>2016</th>\n",
       "      <td>2091.121803</td>\n",
       "      <td>118.780634</td>\n",
       "      <td>10.474525</td>\n",
       "      <td>16.161176</td>\n",
       "      <td>1.105778</td>\n",
       "    </tr>\n",
       "    <tr>\n",
       "      <th>2017</th>\n",
       "      <td>2447.647940</td>\n",
       "      <td>119.546101</td>\n",
       "      <td>10.572798</td>\n",
       "      <td>16.150092</td>\n",
       "      <td>1.127742</td>\n",
       "    </tr>\n",
       "    <tr>\n",
       "      <th>2018</th>\n",
       "      <td>2712.746085</td>\n",
       "      <td>126.017056</td>\n",
       "      <td>12.923860</td>\n",
       "      <td>15.734186</td>\n",
       "      <td>1.224856</td>\n",
       "    </tr>\n",
       "  </tbody>\n",
       "</table>\n",
       "</div>"
      ],
      "text/plain": [
       "              SPX         GLD        USO        SLV   EUR/USD\n",
       "Year                                                         \n",
       "2008  1208.337274   86.111148  77.528756  14.760708  1.464481\n",
       "2009   945.604864   95.834464  34.145446  14.478527  1.393900\n",
       "2010  1142.600627  119.966397  36.651847  19.922883  1.330050\n",
       "2011  1268.544188  152.591486  37.781486  34.118063  1.389480\n",
       "2012  1378.354519  162.151507  35.541598  30.349772  1.287449\n",
       "2013  1642.193891  136.853213  35.014751  23.179909  1.329559\n",
       "2014  1930.589375  121.721294  33.887277  18.276295  1.327894\n",
       "2015  2061.795563  111.165561  16.527623  14.999596  1.109867\n",
       "2016  2091.121803  118.780634  10.474525  16.161176  1.105778\n",
       "2017  2447.647940  119.546101  10.572798  16.150092  1.127742\n",
       "2018  2712.746085  126.017056  12.923860  15.734186  1.224856"
      ]
     },
     "execution_count": 21,
     "metadata": {},
     "output_type": "execute_result"
    }
   ],
   "source": [
    "data_gold.groupby('Year').mean()"
   ]
  },
  {
   "cell_type": "code",
   "execution_count": null,
   "id": "7fbacf23",
   "metadata": {},
   "outputs": [],
   "source": []
  },
  {
   "cell_type": "code",
   "execution_count": 36,
   "id": "630953b1",
   "metadata": {
    "ExecuteTime": {
     "end_time": "2022-08-23T10:23:20.316307Z",
     "start_time": "2022-08-23T10:23:19.819480Z"
    }
   },
   "outputs": [
    {
     "data": {
      "image/png": "[encoded data removed]",
      "text/plain": [
       "<Figure size 576x360 with 1 Axes>"
      ]
     },
     "metadata": {
      "needs_background": "light"
     },
     "output_type": "display_data"
    }
   ],
   "source": [
    "plt.figure(figsize=(8,5))\n",
    "plt.title('Average Gold Prices over the years')\n",
    "sns.barplot(x='Year', y='GLD', data=data_gold);"
   ]
  },
  {
   "cell_type": "code",
   "execution_count": 34,
   "id": "b27fd5f3",
   "metadata": {
    "ExecuteTime": {
     "end_time": "2022-08-23T10:23:06.218689Z",
     "start_time": "2022-08-23T10:23:05.725735Z"
    }
   },
   "outputs": [
    {
     "data": {
      "image/png": "[encoded data removed]",
      "text/plain": [
       "<Figure size 576x360 with 1 Axes>"
      ]
     },
     "metadata": {
      "needs_background": "light"
     },
     "output_type": "display_data"
    }
   ],
   "source": [
    "plt.figure(figsize=(8,5))\n",
    "plt.title('Average Silver Prices over the years')\n",
    "sns.barplot(x='Year', y='SLV', data=data_gold);"
   ]
  },
  {
   "cell_type": "code",
   "execution_count": 37,
   "id": "d756e644",
   "metadata": {
    "ExecuteTime": {
     "end_time": "2022-08-23T10:47:39.280488Z",
     "start_time": "2022-08-23T10:47:38.796702Z"
    }
   },
   "outputs": [
    {
     "data": {
      "image/png": "[encoded data removed]",
      "text/plain": [
       "<Figure size 576x360 with 1 Axes>"
      ]
     },
     "metadata": {
      "needs_background": "light"
     },
     "output_type": "display_data"
    }
   ],
   "source": [
    "plt.figure(figsize=(8,5))\n",
    "plt.title('Average Silver Prices over the years')\n",
    "sns.barplot(x='Year',y='EUR/USD',data=data_gold);"
   ]
  },
  {
   "cell_type": "code",
   "execution_count": 38,
   "id": "f2bcd862",
   "metadata": {
    "ExecuteTime": {
     "end_time": "2022-08-23T10:48:04.011886Z",
     "start_time": "2022-08-23T10:48:03.512512Z"
    }
   },
   "outputs": [
    {
     "data": {
      "image/png": "[encoded data removed]",
      "text/plain": [
       "<Figure size 576x360 with 1 Axes>"
      ]
     },
     "metadata": {
      "needs_background": "light"
     },
     "output_type": "display_data"
    }
   ],
   "source": [
    "plt.figure(figsize=(8,5))\n",
    "plt.title('Average USO over the years')\n",
    "sns.barplot(x='Year', y='USO', data=data_gold);"
   ]
  },
  {
   "cell_type": "code",
   "execution_count": 39,
   "id": "90e9d68c",
   "metadata": {
    "ExecuteTime": {
     "end_time": "2022-08-23T10:48:50.855009Z",
     "start_time": "2022-08-23T10:48:50.365551Z"
    }
   },
   "outputs": [
    {
     "data": {
      "image/png": "[encoded data removed]",
      "text/plain": [
       "<Figure size 576x360 with 1 Axes>"
      ]
     },
     "metadata": {
      "needs_background": "light"
     },
     "output_type": "display_data"
    }
   ],
   "source": [
    "plt.figure(figsize=(8,5))\n",
    "plt.title('Average SPX over the years')\n",
    "sns.barplot(x='Year', y='SPX', data=data_gold);"
   ]
  },
  {
   "cell_type": "code",
   "execution_count": 40,
   "id": "992cba2b",
   "metadata": {
    "ExecuteTime": {
     "end_time": "2022-08-23T11:08:01.366861Z",
     "start_time": "2022-08-23T11:08:01.350304Z"
    }
   },
   "outputs": [],
   "source": [
    "X = data_gold.drop(['Date','GLD'],axis=1)\n",
    "Y = data_gold['GLD']"
   ]
  },
  {
   "cell_type": "code",
   "execution_count": 54,
   "id": "750bea3a",
   "metadata": {
    "ExecuteTime": {
     "end_time": "2022-08-23T11:11:34.522114Z",
     "start_time": "2022-08-23T11:11:34.501982Z"
    }
   },
   "outputs": [],
   "source": [
    "X_train, X_test, y_train, y_test = train_test_split(X, Y, test_size = 0.30, random_state=2)"
   ]
  },
  {
   "cell_type": "code",
   "execution_count": 55,
   "id": "6aadb490",
   "metadata": {
    "ExecuteTime": {
     "end_time": "2022-08-23T11:11:35.391530Z",
     "start_time": "2022-08-23T11:11:35.375196Z"
    }
   },
   "outputs": [
    {
     "name": "stdout",
     "output_type": "stream",
     "text": [
      "Number of Training: 1603\n",
      "Number of Testing: 687\n"
     ]
    }
   ],
   "source": [
    "print(f\"Number of Training: {len(X_train)}\\nNumber of Testing: {len(X_test)}\")"
   ]
  },
  {
   "cell_type": "code",
   "execution_count": 62,
   "id": "6c187424",
   "metadata": {
    "ExecuteTime": {
     "end_time": "2022-08-23T12:02:04.243584Z",
     "start_time": "2022-08-23T12:02:04.232591Z"
    }
   },
   "outputs": [],
   "source": []
  },
  {
   "cell_type": "code",
   "execution_count": 63,
   "id": "280459da",
   "metadata": {
    "ExecuteTime": {
     "end_time": "2022-08-23T12:02:06.403950Z",
     "start_time": "2022-08-23T12:02:06.383496Z"
    }
   },
   "outputs": [],
   "source": [
    "def model_train(model,model_name):\n",
    "    model.fit(X_train,y_train)\n",
    "    model_train_score = model.score(X_train, y_train)\n",
    "    model_test_score = model.score(X_test, y_test)\n",
    "    print(f\"{model_name} model score on Train= {model_train_score *100}%\\n{model_name} model score on Test= {model_test_score*100}%\")\n",
    "def r2(model, model_name):\n",
    "    score = r2_score(y_test, model.predict(X_test))\n",
    "    print(f\"R2 Score for {model_name} is {score * 100}%\")  "
   ]
  },
  {
   "cell_type": "markdown",
   "id": "67be305c",
   "metadata": {},
   "source": [
    "# Random Forest Regressor"
   ]
  },
  {
   "cell_type": "code",
   "execution_count": 64,
   "id": "0d19c137",
   "metadata": {
    "ExecuteTime": {
     "end_time": "2022-08-23T12:02:08.338105Z",
     "start_time": "2022-08-23T12:02:07.831318Z"
    }
   },
   "outputs": [
    {
     "name": "stdout",
     "output_type": "stream",
     "text": [
      "Random Forest Regressor model score on Train= 99.86492116007739%\n",
      "Random Forest Regressor model score on Test= 99.20128947712993%\n",
      "R2 Score for Random Forest Regressor is 99.20128947712993%\n"
     ]
    }
   ],
   "source": [
    "model_RFR = RandomForestRegressor()\n",
    "model_train(model_RFR,'Random Forest Regressor')\n",
    "r2(model_RFR,'Random Forest Regressor')\n"
   ]
  },
  {
   "cell_type": "markdown",
   "id": "219db1ec",
   "metadata": {},
   "source": [
    "# LinearRegression"
   ]
  },
  {
   "cell_type": "code",
   "execution_count": 66,
   "id": "620fc1e7",
   "metadata": {
    "ExecuteTime": {
     "end_time": "2022-08-23T12:12:30.517640Z",
     "start_time": "2022-08-23T12:12:30.474627Z"
    }
   },
   "outputs": [
    {
     "name": "stdout",
     "output_type": "stream",
     "text": [
      "LinearRegression model score on Train= 90.27717730411928%\n",
      "LinearRegression model score on Test= 89.67507516641639%\n",
      "R2 Score for LinearRegression is 89.67507516641639%\n"
     ]
    }
   ],
   "source": [
    "model_LR = LinearRegression()\n",
    "model_train(model_LR,'LinearRegression')\n",
    "r2(model_LR,'LinearRegression')"
   ]
  },
  {
   "cell_type": "markdown",
   "id": "63a645ff",
   "metadata": {},
   "source": [
    "# DecisionTreeRegressor"
   ]
  },
  {
   "cell_type": "code",
   "execution_count": 67,
   "id": "77452178",
   "metadata": {
    "ExecuteTime": {
     "end_time": "2022-08-23T12:14:30.891720Z",
     "start_time": "2022-08-23T12:14:30.856404Z"
    }
   },
   "outputs": [
    {
     "name": "stdout",
     "output_type": "stream",
     "text": [
      "DecisionTreeRegressor model score on Train= 100.0%\n",
      "DecisionTreeRegressor model score on Test= 98.91524747742776%\n",
      "R2 Score for DecisionTreeRegressor is 98.91524747742776%\n"
     ]
    }
   ],
   "source": [
    "model_DTR = DecisionTreeRegressor()\n",
    "model_train(model_DTR,'DecisionTreeRegressor')\n",
    "r2(model_DTR,'DecisionTreeRegressor')"
   ]
  },
  {
   "cell_type": "markdown",
   "id": "3541b8af",
   "metadata": {},
   "source": [
    "# xgboost"
   ]
  },
  {
   "cell_type": "code",
   "execution_count": 69,
   "id": "7618ded8",
   "metadata": {
    "ExecuteTime": {
     "end_time": "2022-08-23T12:15:55.606056Z",
     "start_time": "2022-08-23T12:15:55.336088Z"
    }
   },
   "outputs": [
    {
     "name": "stdout",
     "output_type": "stream",
     "text": [
      "XGBoost model score on Train= 99.97203591172962%\n",
      "XGBoost model score on Test= 99.08321406598498%\n",
      "R2 Score for XGBoost is 99.08321406598498%\n"
     ]
    }
   ],
   "source": [
    "model_XG = XGBRegressor()\n",
    "model_train(xgboost, \"XGBoost\")\n",
    "r2(xgboost, \"XGBoost\")"
   ]
  }
 ],
 "metadata": {
  "kernelspec": {
   "display_name": "Python 3 (ipykernel)",
   "language": "python",
   "name": "python3"
  },
  "language_info": {
   "codemirror_mode": {
    "name": "ipython",
    "version": 3
   },
   "file_extension": ".py",
   "mimetype": "text/x-python",
   "name": "python",
   "nbconvert_exporter": "python",
   "pygments_lexer": "ipython3",
   "version": "3.9.12"
  }
 },
 "nbformat": 4,
 "nbformat_minor": 5
}
