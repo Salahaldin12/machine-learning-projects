{
 "cells": [
  {
   "cell_type": "markdown",
   "id": "0ca50d61",
   "metadata": {
    "ExecuteTime": {
     "end_time": "2022-08-22T12:34:27.650252Z",
     "start_time": "2022-08-22T12:34:27.635247Z"
    }
   },
   "source": [
    "# Recognizing and predicting diabetes"
   ]
  },
  {
   "cell_type": "markdown",
   "id": "4a0b7cac",
   "metadata": {},
   "source": [
    "# ======================================\n",
    "\n",
    "# Import libraries and read data file"
   ]
  },
  {
   "cell_type": "code",
   "execution_count": 111,
   "id": "3038fbb5",
   "metadata": {
    "ExecuteTime": {
     "end_time": "2022-10-12T14:17:31.282641Z",
     "start_time": "2022-10-12T14:17:31.267375Z"
    }
   },
   "outputs": [],
   "source": [
    "import pandas as pd \n",
    "import matplotlib.pyplot as plt \n",
    "import numpy as np\n",
    "%matplotlib inline\n",
    "import seaborn as sns\n",
    "from sklearn.preprocessing import LabelEncoder\n",
    "from sklearn.model_selection import train_test_split, cross_val_score\n",
    "from sklearn.ensemble import RandomForestClassifier ,RandomForestRegressor\n",
    "from sklearn.tree import DecisionTreeClassifier\n",
    "from sklearn.linear_model import LogisticRegression\n",
    "from sklearn.metrics import r2_score\n",
    "import warnings\n",
    "warnings.filterwarnings(\"ignore\")"
   ]
  },
  {
   "cell_type": "code",
   "execution_count": 12,
   "id": "33341eee",
   "metadata": {
    "ExecuteTime": {
     "end_time": "2022-10-12T13:13:13.706096Z",
     "start_time": "2022-10-12T13:13:13.673130Z"
    },
    "scrolled": true
   },
   "outputs": [
    {
     "data": {
      "text/html": [
       "<div>\n",
       "<style scoped>\n",
       "    .dataframe tbody tr th:only-of-type {\n",
       "        vertical-align: middle;\n",
       "    }\n",
       "\n",
       "    .dataframe tbody tr th {\n",
       "        vertical-align: top;\n",
       "    }\n",
       "\n",
       "    .dataframe thead th {\n",
       "        text-align: right;\n",
       "    }\n",
       "</style>\n",
       "<table border=\"1\" class=\"dataframe\">\n",
       "  <thead>\n",
       "    <tr style=\"text-align: right;\">\n",
       "      <th></th>\n",
       "      <th>num_preg</th>\n",
       "      <th>glucose_conc</th>\n",
       "      <th>diastolic_bp</th>\n",
       "      <th>thickness</th>\n",
       "      <th>insulin</th>\n",
       "      <th>bmi</th>\n",
       "      <th>diab_pred</th>\n",
       "      <th>age</th>\n",
       "      <th>skin</th>\n",
       "      <th>diabetes</th>\n",
       "    </tr>\n",
       "  </thead>\n",
       "  <tbody>\n",
       "    <tr>\n",
       "      <th>0</th>\n",
       "      <td>6</td>\n",
       "      <td>148</td>\n",
       "      <td>72</td>\n",
       "      <td>35</td>\n",
       "      <td>0</td>\n",
       "      <td>33.6</td>\n",
       "      <td>0.627</td>\n",
       "      <td>50</td>\n",
       "      <td>1.3790</td>\n",
       "      <td>True</td>\n",
       "    </tr>\n",
       "    <tr>\n",
       "      <th>1</th>\n",
       "      <td>1</td>\n",
       "      <td>85</td>\n",
       "      <td>66</td>\n",
       "      <td>29</td>\n",
       "      <td>0</td>\n",
       "      <td>26.6</td>\n",
       "      <td>0.351</td>\n",
       "      <td>31</td>\n",
       "      <td>1.1426</td>\n",
       "      <td>False</td>\n",
       "    </tr>\n",
       "    <tr>\n",
       "      <th>2</th>\n",
       "      <td>8</td>\n",
       "      <td>183</td>\n",
       "      <td>64</td>\n",
       "      <td>0</td>\n",
       "      <td>0</td>\n",
       "      <td>23.3</td>\n",
       "      <td>0.672</td>\n",
       "      <td>32</td>\n",
       "      <td>0.0000</td>\n",
       "      <td>True</td>\n",
       "    </tr>\n",
       "    <tr>\n",
       "      <th>3</th>\n",
       "      <td>1</td>\n",
       "      <td>89</td>\n",
       "      <td>66</td>\n",
       "      <td>23</td>\n",
       "      <td>94</td>\n",
       "      <td>28.1</td>\n",
       "      <td>0.167</td>\n",
       "      <td>21</td>\n",
       "      <td>0.9062</td>\n",
       "      <td>False</td>\n",
       "    </tr>\n",
       "    <tr>\n",
       "      <th>4</th>\n",
       "      <td>0</td>\n",
       "      <td>137</td>\n",
       "      <td>40</td>\n",
       "      <td>35</td>\n",
       "      <td>168</td>\n",
       "      <td>43.1</td>\n",
       "      <td>2.288</td>\n",
       "      <td>33</td>\n",
       "      <td>1.3790</td>\n",
       "      <td>True</td>\n",
       "    </tr>\n",
       "    <tr>\n",
       "      <th>5</th>\n",
       "      <td>5</td>\n",
       "      <td>116</td>\n",
       "      <td>74</td>\n",
       "      <td>0</td>\n",
       "      <td>0</td>\n",
       "      <td>25.6</td>\n",
       "      <td>0.201</td>\n",
       "      <td>30</td>\n",
       "      <td>0.0000</td>\n",
       "      <td>False</td>\n",
       "    </tr>\n",
       "    <tr>\n",
       "      <th>6</th>\n",
       "      <td>3</td>\n",
       "      <td>78</td>\n",
       "      <td>50</td>\n",
       "      <td>32</td>\n",
       "      <td>88</td>\n",
       "      <td>31.0</td>\n",
       "      <td>0.248</td>\n",
       "      <td>26</td>\n",
       "      <td>1.2608</td>\n",
       "      <td>True</td>\n",
       "    </tr>\n",
       "    <tr>\n",
       "      <th>7</th>\n",
       "      <td>10</td>\n",
       "      <td>115</td>\n",
       "      <td>0</td>\n",
       "      <td>0</td>\n",
       "      <td>0</td>\n",
       "      <td>35.3</td>\n",
       "      <td>0.134</td>\n",
       "      <td>29</td>\n",
       "      <td>0.0000</td>\n",
       "      <td>False</td>\n",
       "    </tr>\n",
       "    <tr>\n",
       "      <th>8</th>\n",
       "      <td>2</td>\n",
       "      <td>197</td>\n",
       "      <td>70</td>\n",
       "      <td>45</td>\n",
       "      <td>543</td>\n",
       "      <td>30.5</td>\n",
       "      <td>0.158</td>\n",
       "      <td>53</td>\n",
       "      <td>1.7730</td>\n",
       "      <td>True</td>\n",
       "    </tr>\n",
       "    <tr>\n",
       "      <th>9</th>\n",
       "      <td>8</td>\n",
       "      <td>125</td>\n",
       "      <td>96</td>\n",
       "      <td>0</td>\n",
       "      <td>0</td>\n",
       "      <td>0.0</td>\n",
       "      <td>0.232</td>\n",
       "      <td>54</td>\n",
       "      <td>0.0000</td>\n",
       "      <td>True</td>\n",
       "    </tr>\n",
       "    <tr>\n",
       "      <th>10</th>\n",
       "      <td>4</td>\n",
       "      <td>110</td>\n",
       "      <td>92</td>\n",
       "      <td>0</td>\n",
       "      <td>0</td>\n",
       "      <td>37.6</td>\n",
       "      <td>0.191</td>\n",
       "      <td>30</td>\n",
       "      <td>0.0000</td>\n",
       "      <td>False</td>\n",
       "    </tr>\n",
       "    <tr>\n",
       "      <th>11</th>\n",
       "      <td>10</td>\n",
       "      <td>168</td>\n",
       "      <td>74</td>\n",
       "      <td>0</td>\n",
       "      <td>0</td>\n",
       "      <td>38.0</td>\n",
       "      <td>0.537</td>\n",
       "      <td>34</td>\n",
       "      <td>0.0000</td>\n",
       "      <td>True</td>\n",
       "    </tr>\n",
       "    <tr>\n",
       "      <th>12</th>\n",
       "      <td>10</td>\n",
       "      <td>139</td>\n",
       "      <td>80</td>\n",
       "      <td>0</td>\n",
       "      <td>0</td>\n",
       "      <td>27.1</td>\n",
       "      <td>1.441</td>\n",
       "      <td>57</td>\n",
       "      <td>0.0000</td>\n",
       "      <td>False</td>\n",
       "    </tr>\n",
       "    <tr>\n",
       "      <th>13</th>\n",
       "      <td>1</td>\n",
       "      <td>189</td>\n",
       "      <td>60</td>\n",
       "      <td>23</td>\n",
       "      <td>846</td>\n",
       "      <td>30.1</td>\n",
       "      <td>0.398</td>\n",
       "      <td>59</td>\n",
       "      <td>0.9062</td>\n",
       "      <td>True</td>\n",
       "    </tr>\n",
       "    <tr>\n",
       "      <th>14</th>\n",
       "      <td>5</td>\n",
       "      <td>166</td>\n",
       "      <td>72</td>\n",
       "      <td>19</td>\n",
       "      <td>175</td>\n",
       "      <td>25.8</td>\n",
       "      <td>0.587</td>\n",
       "      <td>51</td>\n",
       "      <td>0.7486</td>\n",
       "      <td>True</td>\n",
       "    </tr>\n",
       "  </tbody>\n",
       "</table>\n",
       "</div>"
      ],
      "text/plain": [
       "    num_preg  glucose_conc  diastolic_bp  thickness  insulin   bmi  diab_pred  \\\n",
       "0          6           148            72         35        0  33.6      0.627   \n",
       "1          1            85            66         29        0  26.6      0.351   \n",
       "2          8           183            64          0        0  23.3      0.672   \n",
       "3          1            89            66         23       94  28.1      0.167   \n",
       "4          0           137            40         35      168  43.1      2.288   \n",
       "5          5           116            74          0        0  25.6      0.201   \n",
       "6          3            78            50         32       88  31.0      0.248   \n",
       "7         10           115             0          0        0  35.3      0.134   \n",
       "8          2           197            70         45      543  30.5      0.158   \n",
       "9          8           125            96          0        0   0.0      0.232   \n",
       "10         4           110            92          0        0  37.6      0.191   \n",
       "11        10           168            74          0        0  38.0      0.537   \n",
       "12        10           139            80          0        0  27.1      1.441   \n",
       "13         1           189            60         23      846  30.1      0.398   \n",
       "14         5           166            72         19      175  25.8      0.587   \n",
       "\n",
       "    age    skin  diabetes  \n",
       "0    50  1.3790      True  \n",
       "1    31  1.1426     False  \n",
       "2    32  0.0000      True  \n",
       "3    21  0.9062     False  \n",
       "4    33  1.3790      True  \n",
       "5    30  0.0000     False  \n",
       "6    26  1.2608      True  \n",
       "7    29  0.0000     False  \n",
       "8    53  1.7730      True  \n",
       "9    54  0.0000      True  \n",
       "10   30  0.0000     False  \n",
       "11   34  0.0000      True  \n",
       "12   57  0.0000     False  \n",
       "13   59  0.9062      True  \n",
       "14   51  0.7486      True  "
      ]
     },
     "execution_count": 12,
     "metadata": {},
     "output_type": "execute_result"
    }
   ],
   "source": [
    "data = pd.read_csv(\"pima-data.csv\")\n",
    "data.head(15)"
   ]
  },
  {
   "cell_type": "code",
   "execution_count": 13,
   "id": "8f4f77f5",
   "metadata": {
    "ExecuteTime": {
     "end_time": "2022-10-12T13:13:14.379369Z",
     "start_time": "2022-10-12T13:13:14.363370Z"
    }
   },
   "outputs": [
    {
     "data": {
      "text/plain": [
       "num_preg        0\n",
       "glucose_conc    0\n",
       "diastolic_bp    0\n",
       "thickness       0\n",
       "insulin         0\n",
       "bmi             0\n",
       "diab_pred       0\n",
       "age             0\n",
       "skin            0\n",
       "diabetes        0\n",
       "dtype: int64"
      ]
     },
     "execution_count": 13,
     "metadata": {},
     "output_type": "execute_result"
    }
   ],
   "source": [
    "data.isnull().sum()"
   ]
  },
  {
   "cell_type": "markdown",
   "id": "f9d768a4",
   "metadata": {},
   "source": [
    "# First, make sure that there are no null values\n",
    "# Seconds replace True and False values ​​with 0and1"
   ]
  },
  {
   "cell_type": "code",
   "execution_count": 14,
   "id": "31f1a973",
   "metadata": {
    "ExecuteTime": {
     "end_time": "2022-10-12T13:13:15.747276Z",
     "start_time": "2022-10-12T13:13:15.736283Z"
    }
   },
   "outputs": [
    {
     "data": {
      "text/plain": [
       "False"
      ]
     },
     "execution_count": 14,
     "metadata": {},
     "output_type": "execute_result"
    }
   ],
   "source": [
    "data.isnull().values.any()"
   ]
  },
  {
   "cell_type": "code",
   "execution_count": 15,
   "id": "fe12da66",
   "metadata": {
    "ExecuteTime": {
     "end_time": "2022-10-12T13:13:16.445514Z",
     "start_time": "2022-10-12T13:13:16.438535Z"
    }
   },
   "outputs": [
    {
     "data": {
      "text/plain": [
       "False    500\n",
       "True     268\n",
       "Name: diabetes, dtype: int64"
      ]
     },
     "execution_count": 15,
     "metadata": {},
     "output_type": "execute_result"
    }
   ],
   "source": [
    "#Knowing the repetition of values\n",
    "data['diabetes'].value_counts()"
   ]
  },
  {
   "cell_type": "code",
   "execution_count": 16,
   "id": "262e3b47",
   "metadata": {
    "ExecuteTime": {
     "end_time": "2022-10-12T13:13:17.178501Z",
     "start_time": "2022-10-12T13:13:17.150356Z"
    }
   },
   "outputs": [
    {
     "data": {
      "text/html": [
       "<div>\n",
       "<style scoped>\n",
       "    .dataframe tbody tr th:only-of-type {\n",
       "        vertical-align: middle;\n",
       "    }\n",
       "\n",
       "    .dataframe tbody tr th {\n",
       "        vertical-align: top;\n",
       "    }\n",
       "\n",
       "    .dataframe thead th {\n",
       "        text-align: right;\n",
       "    }\n",
       "</style>\n",
       "<table border=\"1\" class=\"dataframe\">\n",
       "  <thead>\n",
       "    <tr style=\"text-align: right;\">\n",
       "      <th></th>\n",
       "      <th>num_preg</th>\n",
       "      <th>glucose_conc</th>\n",
       "      <th>diastolic_bp</th>\n",
       "      <th>thickness</th>\n",
       "      <th>insulin</th>\n",
       "      <th>bmi</th>\n",
       "      <th>diab_pred</th>\n",
       "      <th>age</th>\n",
       "      <th>skin</th>\n",
       "      <th>diabetes</th>\n",
       "    </tr>\n",
       "  </thead>\n",
       "  <tbody>\n",
       "    <tr>\n",
       "      <th>0</th>\n",
       "      <td>6</td>\n",
       "      <td>148</td>\n",
       "      <td>72</td>\n",
       "      <td>35</td>\n",
       "      <td>0</td>\n",
       "      <td>33.6</td>\n",
       "      <td>0.627</td>\n",
       "      <td>50</td>\n",
       "      <td>1.3790</td>\n",
       "      <td>1</td>\n",
       "    </tr>\n",
       "    <tr>\n",
       "      <th>1</th>\n",
       "      <td>1</td>\n",
       "      <td>85</td>\n",
       "      <td>66</td>\n",
       "      <td>29</td>\n",
       "      <td>0</td>\n",
       "      <td>26.6</td>\n",
       "      <td>0.351</td>\n",
       "      <td>31</td>\n",
       "      <td>1.1426</td>\n",
       "      <td>0</td>\n",
       "    </tr>\n",
       "    <tr>\n",
       "      <th>2</th>\n",
       "      <td>8</td>\n",
       "      <td>183</td>\n",
       "      <td>64</td>\n",
       "      <td>0</td>\n",
       "      <td>0</td>\n",
       "      <td>23.3</td>\n",
       "      <td>0.672</td>\n",
       "      <td>32</td>\n",
       "      <td>0.0000</td>\n",
       "      <td>1</td>\n",
       "    </tr>\n",
       "    <tr>\n",
       "      <th>3</th>\n",
       "      <td>1</td>\n",
       "      <td>89</td>\n",
       "      <td>66</td>\n",
       "      <td>23</td>\n",
       "      <td>94</td>\n",
       "      <td>28.1</td>\n",
       "      <td>0.167</td>\n",
       "      <td>21</td>\n",
       "      <td>0.9062</td>\n",
       "      <td>0</td>\n",
       "    </tr>\n",
       "    <tr>\n",
       "      <th>4</th>\n",
       "      <td>0</td>\n",
       "      <td>137</td>\n",
       "      <td>40</td>\n",
       "      <td>35</td>\n",
       "      <td>168</td>\n",
       "      <td>43.1</td>\n",
       "      <td>2.288</td>\n",
       "      <td>33</td>\n",
       "      <td>1.3790</td>\n",
       "      <td>1</td>\n",
       "    </tr>\n",
       "  </tbody>\n",
       "</table>\n",
       "</div>"
      ],
      "text/plain": [
       "   num_preg  glucose_conc  diastolic_bp  thickness  insulin   bmi  diab_pred  \\\n",
       "0         6           148            72         35        0  33.6      0.627   \n",
       "1         1            85            66         29        0  26.6      0.351   \n",
       "2         8           183            64          0        0  23.3      0.672   \n",
       "3         1            89            66         23       94  28.1      0.167   \n",
       "4         0           137            40         35      168  43.1      2.288   \n",
       "\n",
       "   age    skin  diabetes  \n",
       "0   50  1.3790         1  \n",
       "1   31  1.1426         0  \n",
       "2   32  0.0000         1  \n",
       "3   21  0.9062         0  \n",
       "4   33  1.3790         1  "
      ]
     },
     "execution_count": 16,
     "metadata": {},
     "output_type": "execute_result"
    }
   ],
   "source": [
    "diabetis = {True:1 , False:0}\n",
    "data['diabetes'] = data['diabetes'].map(diabetis)\n",
    "data.head()"
   ]
  },
  {
   "cell_type": "code",
   "execution_count": 17,
   "id": "a5274417",
   "metadata": {
    "ExecuteTime": {
     "end_time": "2022-10-12T13:13:17.949373Z",
     "start_time": "2022-10-12T13:13:17.934381Z"
    }
   },
   "outputs": [
    {
     "data": {
      "text/plain": [
       "(268, 500)"
      ]
     },
     "execution_count": 17,
     "metadata": {},
     "output_type": "execute_result"
    }
   ],
   "source": [
    "true_num = len(data.loc[data['diabetes']== True])\n",
    "false_num = len(data.loc[data['diabetes']== False])\n",
    "true_num , false_num"
   ]
  },
  {
   "cell_type": "code",
   "execution_count": 18,
   "id": "210b7beb",
   "metadata": {
    "ExecuteTime": {
     "end_time": "2022-10-12T13:13:18.696372Z",
     "start_time": "2022-10-12T13:13:18.677317Z"
    }
   },
   "outputs": [
    {
     "data": {
      "text/plain": [
       "Index(['num_preg', 'glucose_conc', 'diastolic_bp', 'thickness', 'insulin',\n",
       "       'bmi', 'diab_pred', 'age', 'skin', 'diabetes'],\n",
       "      dtype='object')"
      ]
     },
     "execution_count": 18,
     "metadata": {},
     "output_type": "execute_result"
    }
   ],
   "source": [
    "data.columns"
   ]
  },
  {
   "cell_type": "code",
   "execution_count": 19,
   "id": "81abac6b",
   "metadata": {
    "ExecuteTime": {
     "end_time": "2022-10-12T13:13:19.737530Z",
     "start_time": "2022-10-12T13:13:19.632849Z"
    }
   },
   "outputs": [
    {
     "data": {
      "text/plain": [
       "<AxesSubplot:xlabel='diabetes', ylabel='count'>"
      ]
     },
     "execution_count": 19,
     "metadata": {},
     "output_type": "execute_result"
    },
    {
     "data": {
      "image/png": "[encoded data removed]",
      "text/plain": [
       "<Figure size 432x288 with 1 Axes>"
      ]
     },
     "metadata": {
      "needs_background": "light"
     },
     "output_type": "display_data"
    }
   ],
   "source": [
    "sns.countplot(data['diabetes'],label=\"count\")"
   ]
  },
  {
   "cell_type": "markdown",
   "id": "a77aa078",
   "metadata": {},
   "source": [
    "# split data to test and train "
   ]
  },
  {
   "cell_type": "code",
   "execution_count": 20,
   "id": "9f6e8559",
   "metadata": {
    "ExecuteTime": {
     "end_time": "2022-10-12T13:13:21.186139Z",
     "start_time": "2022-10-12T13:13:21.168096Z"
    }
   },
   "outputs": [],
   "source": [
    "X = data.drop('diabetes',axis='columns')\n",
    "y = data.diabetes"
   ]
  },
  {
   "cell_type": "code",
   "execution_count": 124,
   "id": "dadb8db4",
   "metadata": {
    "ExecuteTime": {
     "end_time": "2022-10-12T14:21:57.426448Z",
     "start_time": "2022-10-12T14:21:57.418453Z"
    }
   },
   "outputs": [],
   "source": [
    "\n",
    "X_train, X_test, y_train, y_test = train_test_split(X,y,test_size=30,random_state=50)"
   ]
  },
  {
   "cell_type": "markdown",
   "id": "d6a77b6b",
   "metadata": {},
   "source": [
    "# Create a model and validate the results"
   ]
  },
  {
   "cell_type": "code",
   "execution_count": 125,
   "id": "ac2b5442",
   "metadata": {
    "ExecuteTime": {
     "end_time": "2022-10-12T14:21:58.788060Z",
     "start_time": "2022-10-12T14:21:58.775083Z"
    }
   },
   "outputs": [],
   "source": [
    "#We create a function that makes it easy for us to train and test any model\n",
    "def kfolds(model, model_name):\n",
    "    model = cross_val_score(model, X,y, cv=5)\n",
    "    model_score = np.average(model)\n",
    "    print(f\"{model_name} score on cross validation: {model_score * 100}%\")\n",
    "def model_train(model,model_name):\n",
    "    model.fit(X_train,y_train)\n",
    "    model_train_score = model.score(X_train, y_train)\n",
    "    model_test_score = model.score(X_test, y_test)\n",
    "    print(f\"{model_name} model score on Train= {model_train_score *100}%\\n{model_name} model score on Test= {model_test_score*100}%\")\n",
    "def r2(model, model_name):\n",
    "    score = r2_score(y_test, model.predict(X_test))\n",
    "    print(f\"R2 Score for {model_name} is {score * 100}%\") "
   ]
  },
  {
   "cell_type": "code",
   "execution_count": 126,
   "id": "e8f961ea",
   "metadata": {
    "ExecuteTime": {
     "end_time": "2022-10-12T14:22:00.054878Z",
     "start_time": "2022-10-12T14:22:00.003709Z"
    }
   },
   "outputs": [
    {
     "name": "stdout",
     "output_type": "stream",
     "text": [
      "DecisionTreeClassifier model score on Train= 100.0%\n",
      "DecisionTreeClassifier model score on Test= 66.66666666666666%\n",
      "DecisionTreeClassifier score on cross validation: 70.84542908072319%\n"
     ]
    }
   ],
   "source": [
    "model_DTR = DecisionTreeClassifier()\n",
    "model_train(model_DTR,'DecisionTreeClassifier')\n",
    "kfolds(model_DTR,'DecisionTreeClassifier')"
   ]
  },
  {
   "cell_type": "code",
   "execution_count": 127,
   "id": "a7cb7e49",
   "metadata": {
    "ExecuteTime": {
     "end_time": "2022-10-12T14:22:03.577343Z",
     "start_time": "2022-10-12T14:22:02.251836Z"
    }
   },
   "outputs": [
    {
     "name": "stdout",
     "output_type": "stream",
     "text": [
      "RandomForestClassifier model score on Train= 90.34809079736861%\n",
      "RandomForestClassifier model score on Test= 16.85155279503099%\n",
      "RandomForestClassifier score on cross validation: 27.361997432240447%\n"
     ]
    }
   ],
   "source": [
    "model_RFR =RandomForestRegressor()\n",
    "model_train(model_RFR,'RandomForestClassifier')\n",
    "kfolds(model_RFR,'RandomForestClassifier')"
   ]
  },
  {
   "cell_type": "code",
   "execution_count": 130,
   "id": "541863ec",
   "metadata": {
    "ExecuteTime": {
     "end_time": "2022-10-12T14:23:05.711840Z",
     "start_time": "2022-10-12T14:23:05.455857Z"
    }
   },
   "outputs": [
    {
     "name": "stdout",
     "output_type": "stream",
     "text": [
      "RandomForestClassifier model score on Train= 99.1869918699187%\n",
      "RandomForestClassifier model score on Test= 73.33333333333333%\n",
      "RandomForestClassifier score on cross validation: 74.48349036584331%\n"
     ]
    }
   ],
   "source": [
    "model_RFR2 = RandomForestClassifier(n_estimators=20)\n",
    "model_train(model_RFR,'RandomForestClassifier')\n",
    "kfolds(model_RFR,'RandomForestClassifier')"
   ]
  },
  {
   "cell_type": "code",
   "execution_count": 129,
   "id": "4333edd3",
   "metadata": {
    "ExecuteTime": {
     "end_time": "2022-10-12T14:22:13.936980Z",
     "start_time": "2022-10-12T14:22:13.151152Z"
    }
   },
   "outputs": [
    {
     "name": "stdout",
     "output_type": "stream",
     "text": [
      "[16:22:13] WARNING: ..\\src\\learner.cc:1115: Starting in XGBoost 1.3.0, the default evaluation metric used with the objective 'binary:logistic' was changed from 'error' to 'logloss'. Explicitly set eval_metric if you'd like to restore the old behavior.\n",
      "XGBoost model score on Train= 100.0%\n",
      "XGBoost model score on Test= 80.0%\n",
      "[16:22:13] WARNING: ..\\src\\learner.cc:1115: Starting in XGBoost 1.3.0, the default evaluation metric used with the objective 'binary:logistic' was changed from 'error' to 'logloss'. Explicitly set eval_metric if you'd like to restore the old behavior.\n",
      "[16:22:13] WARNING: ..\\src\\learner.cc:1115: Starting in XGBoost 1.3.0, the default evaluation metric used with the objective 'binary:logistic' was changed from 'error' to 'logloss'. Explicitly set eval_metric if you'd like to restore the old behavior.\n",
      "[16:22:13] WARNING: ..\\src\\learner.cc:1115: Starting in XGBoost 1.3.0, the default evaluation metric used with the objective 'binary:logistic' was changed from 'error' to 'logloss'. Explicitly set eval_metric if you'd like to restore the old behavior.\n",
      "[16:22:13] WARNING: ..\\src\\learner.cc:1115: Starting in XGBoost 1.3.0, the default evaluation metric used with the objective 'binary:logistic' was changed from 'error' to 'logloss'. Explicitly set eval_metric if you'd like to restore the old behavior.\n",
      "[16:22:13] WARNING: ..\\src\\learner.cc:1115: Starting in XGBoost 1.3.0, the default evaluation metric used with the objective 'binary:logistic' was changed from 'error' to 'logloss'. Explicitly set eval_metric if you'd like to restore the old behavior.\n",
      "XGBoost score on cross validation: 75.26525761819879%\n"
     ]
    }
   ],
   "source": [
    "from xgboost import XGBClassifier\n",
    "model_XG = XGBClassifier()\n",
    "model_train(model_XG, \"XGBoost\")\n",
    "kfolds(model_XG, \"XGBoost\")"
   ]
  },
  {
   "cell_type": "code",
   "execution_count": 131,
   "id": "91cb9065",
   "metadata": {
    "ExecuteTime": {
     "end_time": "2022-10-12T14:24:00.482935Z",
     "start_time": "2022-10-12T14:24:00.465366Z"
    }
   },
   "outputs": [
    {
     "data": {
      "text/plain": [
       "['model']"
      ]
     },
     "execution_count": 131,
     "metadata": {},
     "output_type": "execute_result"
    }
   ],
   "source": [
    "import joblib \n",
    "joblib.dump(model_RFR2, 'model')"
   ]
  }
 ],
 "metadata": {
  "kernelspec": {
   "display_name": "Python 3 (ipykernel)",
   "language": "python",
   "name": "python3"
  },
  "language_info": {
   "codemirror_mode": {
    "name": "ipython",
    "version": 3
   },
   "file_extension": ".py",
   "mimetype": "text/x-python",
   "name": "python",
   "nbconvert_exporter": "python",
   "pygments_lexer": "ipython3",
   "version": "3.9.12"
  }
 },
 "nbformat": 4,
 "nbformat_minor": 5
}
